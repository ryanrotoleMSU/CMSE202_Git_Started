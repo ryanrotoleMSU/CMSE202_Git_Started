{
 "cells": [
  {
   "cell_type": "code",
   "execution_count": null,
   "id": "60c1822b-6617-47fe-b062-eba7681488c8",
   "metadata": {},
   "outputs": [],
   "source": [
    "def plotgrid(myarray, highlight_roads=[], house_status={}, step_num=None):\n",
    "    fig, ax = plt.subplots(figsize=(10, 10))\n",
    "    ax.set_xlim([-0.5, myarray.shape[1] + 5])\n",
    "    ax.set_ylim([-0.5, myarray.shape[0] + 0.5])\n",
    "    plt.axis('off')\n",
    "\n",
    "    emoji_map = {\n",
    "        1: \"🌲\",  # Tree\n",
    "        2: \"🟡\",  # Just Ignited\n",
    "        3: \"🟩\",  # Safe zone\n",
    "        4: \"⬛\",  # Road\n",
    "        5: \"🔴\",  # Burning\n",
    "        6: \"🟥\",  # Burned\n",
    "        22: \"🏠\", # House (later overwritten by pink square emoji)\n",
    "    }\n",
    "\n",
    "    # Draw board\n",
    "    for y in range(myarray.shape[0]):\n",
    "        for x in range(myarray.shape[1]):\n",
    "            val = myarray[y][x]\n",
    "            if val == 22:\n",
    "                ax.text(x, myarray.shape[0] - y - 1, \"🟪\", fontsize=18, ha='center', va='center')\n",
    "            elif val in emoji_map:\n",
    "                ax.text(x, myarray.shape[0] - y - 1, emoji_map[val], fontsize=18, ha='center', va='center')\n",
    "\n",
    "    # EMS 🚑 emoji paths\n",
    "    for (y, x) in highlight_roads:\n",
    "        ax.text(x, myarray.shape[0] - y - 1, \"🚑\", fontsize=18, ha='center', va='center')\n",
    "\n",
    "    # Time marker on rescued houses\n",
    "    for (y, x), step in house_status.items():\n",
    "        ax.text(x, myarray.shape[0] - y - 1, f\"{step}\", color='black', fontsize=8, ha='center', va='center')\n",
    "\n",
    "    # Legend\n",
    "    legend_start_y = 9\n",
    "    legend = [\n",
    "        \"🌲 Tree\",\n",
    "        \"🟡 Just Ignited\",\n",
    "        \"🔴 Burning\",\n",
    "        \"🟥 Burned\",\n",
    "        \"⬛ Road\",\n",
    "        \"🟪 House (Pink Square)\",\n",
    "        \"🚑 EMS Path\"\n",
    "    ]\n",
    "    for i, text_line in enumerate(legend):\n",
    "        ax.text(myarray.shape[1] + 1, legend_start_y - i * 0.5, text_line, fontsize=10)\n",
    "\n",
    "    if step_num is not None:\n",
    "        ax.text(myarray.shape[1] + 1, legend_start_y - len(legend) * 0.5 - 0.5, f\"🕒 Time: {step_num} min\", fontsize=10, fontweight='bold')\n",
    "\n",
    "    plt.show()\n"
   ]
  }
 ],
 "metadata": {
  "kernelspec": {
   "display_name": "Python 3.11 (default)",
   "language": "python",
   "name": "python3"
  },
  "language_info": {
   "codemirror_mode": {
    "name": "ipython",
    "version": 3
   },
   "file_extension": ".py",
   "mimetype": "text/x-python",
   "name": "python",
   "nbconvert_exporter": "python",
   "pygments_lexer": "ipython3",
   "version": "3.11.11"
  }
 },
 "nbformat": 4,
 "nbformat_minor": 5
}
