{
 "cells": [
  {
   "cell_type": "code",
   "execution_count": 48,
   "id": "5444d1d9-88e5-467d-90d5-1f020f770e55",
   "metadata": {},
   "outputs": [
    {
     "ename": "AttributeError",
     "evalue": "'TownBoard' object has no attribute 'generate_town'",
     "output_type": "error",
     "traceback": [
      "\u001b[0;31m---------------------------------------------------------------------------\u001b[0m",
      "\u001b[0;31mAttributeError\u001b[0m                            Traceback (most recent call last)",
      "Cell \u001b[0;32mIn[48], line 56\u001b[0m\n\u001b[1;32m     53\u001b[0m \u001b[38;5;28;01mif\u001b[39;00m \u001b[38;5;18m__name__\u001b[39m \u001b[38;5;241m==\u001b[39m \u001b[38;5;124m\"\u001b[39m\u001b[38;5;124m__main__\u001b[39m\u001b[38;5;124m\"\u001b[39m:\n\u001b[1;32m     54\u001b[0m     \u001b[38;5;66;03m# Create town with random house clusters (20-40% coverage)\u001b[39;00m\n\u001b[1;32m     55\u001b[0m     town \u001b[38;5;241m=\u001b[39m TownBoard(\u001b[38;5;241m15\u001b[39m)\n\u001b[0;32m---> 56\u001b[0m     \u001b[43mtown\u001b[49m\u001b[38;5;241;43m.\u001b[39;49m\u001b[43mgenerate_town\u001b[49m()\n\u001b[1;32m     58\u001b[0m     \u001b[38;5;66;03m# Simulate fire spread\u001b[39;00m\n\u001b[1;32m     59\u001b[0m     fire \u001b[38;5;241m=\u001b[39m FireSimulator(town)\n",
      "\u001b[0;31mAttributeError\u001b[0m: 'TownBoard' object has no attribute 'generate_town'"
     ]
    }
   ],
   "source": [
    "class TornadoSimulator:\n",
    "    \"\"\"Simulates a tornado moving through the town\"\"\"\n",
    "    def __init__(self, town_board):\n",
    "        self.board = town_board\n",
    "        self.time_step = 0\n",
    "        self.path = []\n",
    "\n",
    "        x, y = random.randint(0, len(self.board)-1), random.randint(0, len(self.board)-1)\n",
    "        starts=[[(0,y),(x,0),(len(self.board)-1,y),(x,len(self.board)-1)]]\n",
    "        self.board.grid[starts[np.random.choice(starts)]]=13\n",
    "        x,y=np.where(self.board==13)\n",
    "        self.append((x[0],y[0]))\n",
    "    \n",
    "    def move(self):\n",
    "        \"\"\"move tornado to adjacent cells\"\"\"\n",
    "        x,y=self.path[-1]\n",
    "        options=[]\n",
    "        for dx in [-1, 0, 1]:\n",
    "            for dy in [-1, 0, 1]:\n",
    "                if dx == 0 and dy == 0:\n",
    "                    for k in range(4):\n",
    "                        options.append((dx,dy))\n",
    "                nx, ny = x+dx, y+dy\n",
    "                if 0<=nx<len(self.board) and 0<=ny<len(self.board):\n",
    "                    if (nx,ny) in self.path:\n",
    "                        options.append((nx,ny))\n",
    "                    else:\n",
    "                        for k in range(3):\n",
    "                            options.append((nx,ny))\n",
    "\n",
    "        #set old to destroyed\n",
    "        self.board[(x,y)]=14\n",
    "        \n",
    "        #set tornado\n",
    "        self.board[options[np.random.choice(len(options))]]=13\n",
    "        \n",
    "        self.time_step += 1\n",
    "\n",
    "        \n",
    "    def hit_check(self):\n",
    "        #check whether it hit an occupied house or car\n",
    "        pass\n",
    "    \n",
    "    def simulate(self, steps=50, delay=0.3):\n",
    "        \"\"\"Run complete tornado simulation\"\"\"\n",
    "        for t in range(steps):\n",
    "            self.move()\n",
    "            self.hit_check()\n",
    "            time.sleep(delay)\n",
    "\n",
    "\n",
    "# Example usage\n",
    "if __name__ == \"__main__\":\n",
    "    # Create town with random house clusters (20-40% coverage)\n",
    "    town = TownBoard(15)\n",
    "    town.generate_town()\n",
    "    \n",
    "    # Simulate fire spread\n",
    "    fire = FireSimulator(town)\n",
    "    fire.simulate(steps=5, initial_fires=3, delay=0.2)"
   ]
  }
 ],
 "metadata": {
  "kernelspec": {
   "display_name": "Python 3.11 (default)",
   "language": "python",
   "name": "python3"
  },
  "language_info": {
   "codemirror_mode": {
    "name": "ipython",
    "version": 3
   },
   "file_extension": ".py",
   "mimetype": "text/x-python",
   "name": "python",
   "nbconvert_exporter": "python",
   "pygments_lexer": "ipython3",
   "version": "3.11.11"
  }
 },
 "nbformat": 4,
 "nbformat_minor": 5
}
