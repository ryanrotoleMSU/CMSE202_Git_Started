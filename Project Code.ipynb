{
 "cells": [
  {
   "cell_type": "code",
   "execution_count": 1,
   "id": "d9af2ab9-aa52-4ef4-8200-fb993f2c3e2a",
   "metadata": {},
   "outputs": [
    {
     "name": "stdout",
     "output_type": "stream",
     "text": [
      "Step 19\n"
     ]
    },
    {
     "data": {
      "image/png": "[encoded data removed]",
      "text/plain": [
       "<Figure size 1000x1000 with 1 Axes>"
      ]
     },
     "metadata": {},
     "output_type": "display_data"
    }
   ],
   "source": [
    "import numpy as np\n",
    "import matplotlib.pyplot as plt\n",
    "import random\n",
    "import time\n",
    "from IPython.display import clear_output\n",
    "\n",
    "# Step 1: Create the forest with T-road, fireproof zone, top trees, and houses\n",
    "forest = np.array([\n",
    "    [1, 1, 1, 1, 1, 1, 1, 1, 1, 1],\n",
    "    [1, 1, 1, 1, 1, 1, 1, 1, 1, 1],\n",
    "    [1, 1, 1, 1, 1, 1, 1, 1, 1, 1],\n",
    "    [1, 1, 1, 1, 1, 1, 1, 1, 1, 1],\n",
    "    [1, 1, 1, 1, 1, 1, 1, 1, 1, 1],\n",
    "    [4, 4, 4, 4, 4, 4, 4, 4, 4, 4],  # horizontal road\n",
    "    [3, 3, 22, 3, 4, 4, 3, 22, 3, 3],\n",
    "    [3, 3, 3, 22, 4, 4, 22, 3, 3, 3],\n",
    "    [3, 3, 3, 3, 4, 4, 3, 3, 3, 3],\n",
    "    [3, 3, 22, 4, 4, 4, 4, 22, 3, 3]\n",
    "])\n",
    "\n",
    "# Step 2: Randomly ignite trees in the top row\n",
    "for col in range(forest.shape[1]):\n",
    "    if forest[0, col] == 1 and random.random() < 0.2:\n",
    "        forest[0, col] = 2\n",
    "\n",
    "# Step 3: Fire spread step logic with persistent fire display\n",
    "\n",
    "def step_forest(forest):\n",
    "    new_forest = forest.copy()\n",
    "    N = forest.shape[0]\n",
    "\n",
    "    for i in range(N):\n",
    "        for j in range(N):\n",
    "            cell = forest[i, j]\n",
    "\n",
    "            if cell == 2:\n",
    "                new_forest[i, j] = 5  # continue burning\n",
    "            elif cell == 5:\n",
    "                new_forest[i, j] = 6  # still burning\n",
    "            elif cell == 6:\n",
    "                new_forest[i, j] = 6  # persist as burned fire visually\n",
    "\n",
    "            # Spread fire only from newest igniters\n",
    "            if cell == 2:\n",
    "                for dx in [-1, 0, 1]:\n",
    "                    for dy in [-1, 0, 1]:\n",
    "                        ni, nj = i + dx, j + dy\n",
    "                        if (0 <= ni < N) and (0 <= nj < N) and (dx != 0 or dy != 0):\n",
    "                            if forest[ni, nj] == 1:\n",
    "                                new_forest[ni, nj] = 2\n",
    "\n",
    "    return new_forest\n",
    "\n",
    "# Step 4: Visualize with symbols\n",
    "\n",
    "def plotgrid(myarray):\n",
    "    fig = plt.figure(figsize=(10, 10))\n",
    "\n",
    "    x_range = np.linspace(0, myarray.shape[1] - 1, myarray.shape[1])\n",
    "    y_range = np.linspace(0, myarray.shape[0] - 1, myarray.shape[0])\n",
    "    x_indexes, y_indexes = np.meshgrid(x_range, y_range)\n",
    "\n",
    "    tr_x = x_indexes[myarray == 1]\n",
    "    tr_y = y_indexes[myarray == 1]\n",
    "    sq_x = x_indexes[myarray == 2]\n",
    "    sq_y = y_indexes[myarray == 2]\n",
    "    fire5_x = x_indexes[myarray == 5]\n",
    "    fire5_y = y_indexes[myarray == 5]\n",
    "    fire6_x = x_indexes[myarray == 6]\n",
    "    fire6_y = y_indexes[myarray == 6]\n",
    "    safe_x = x_indexes[myarray == 3]\n",
    "    safe_y = y_indexes[myarray == 3]\n",
    "    road_x = x_indexes[myarray == 4]\n",
    "    road_y = y_indexes[myarray == 4]\n",
    "    house_x = x_indexes[myarray == 22]\n",
    "    house_y = y_indexes[myarray == 22]\n",
    "\n",
    "    plt.plot(tr_x, myarray.shape[0] - tr_y - 1, '^g', markersize=20)\n",
    "    plt.plot(sq_x, myarray.shape[0] - sq_y - 1, 'yo', markersize=20)\n",
    "    plt.plot(fire5_x, myarray.shape[0] - fire5_y - 1, 'ro', markersize=20)\n",
    "    plt.plot(fire6_x, myarray.shape[0] - fire6_y - 1, 'rs', markersize=20)\n",
    "    plt.plot(safe_x, myarray.shape[0] - safe_y - 1, 'gs', markersize=20)\n",
    "    plt.plot(road_x, myarray.shape[0] - road_y - 1, 'ks', markersize=20)\n",
    "    plt.plot(house_x, myarray.shape[0] - house_y - 1, marker='$\\U0001F3E0$', color='blue', markersize=20)  # 🏠\n",
    "\n",
    "    plt.ylim([-0.5, myarray.shape[0] + 0.5])\n",
    "    plt.xlim([-0.5, myarray.shape[1] + 0.5])\n",
    "    plt.axis('off')\n",
    "    plt.show()\n",
    "\n",
    "# Step 5: Run the simulation\n",
    "for t in range(20):\n",
    "    clear_output(wait=True)\n",
    "    print(f\"Step {t}\")\n",
    "    plotgrid(forest)\n",
    "    forest = step_forest(forest)\n",
    "    time.sleep(0.5)\n"
   ]
  },
  {
   "cell_type": "code",
   "execution_count": null,
   "id": "e17ee7db-53d8-4bbc-b19a-fe852eaf59ba",
   "metadata": {},
   "outputs": [],
   "source": []
  }
 ],
 "metadata": {
  "kernelspec": {
   "display_name": "Python 3.11 (default)",
   "language": "python",
   "name": "python3"
  },
  "language_info": {
   "codemirror_mode": {
    "name": "ipython",
    "version": 3
   },
   "file_extension": ".py",
   "mimetype": "text/x-python",
   "name": "python",
   "nbconvert_exporter": "python",
   "pygments_lexer": "ipython3",
   "version": "3.11.11"
  }
 },
 "nbformat": 4,
 "nbformat_minor": 5
}
